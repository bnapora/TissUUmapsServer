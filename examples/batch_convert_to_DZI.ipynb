{
 "cells": [
  {
   "cell_type": "markdown",
   "metadata": {},
   "source": [
    "# Batch convert images to dzi\n",
    "\n",
    "## 1. Using the TissUUmaps API\n",
    "\n",
    "Install the TissUUmaps pip package if not already installed (use `%pip install tissuumaps[full]` if you need the TissUUmaps gui):"
   ]
  },
  {
   "cell_type": "code",
   "execution_count": null,
   "metadata": {},
   "outputs": [],
   "source": [
    "%pip install tissuumaps"
   ]
  },
  {
   "cell_type": "markdown",
   "metadata": {},
   "source": [
    "Import TissUUmaps package and other dependencies:"
   ]
  },
  {
   "cell_type": "code",
   "execution_count": 1,
   "metadata": {},
   "outputs": [
    {
     "name": "stderr",
     "output_type": "stream",
     "text": [
      "INFO:root: * TissUUmaps version: 3.0.9.5\n",
      "\n"
     ]
    }
   ],
   "source": [
    "import tissuumaps.views as tfv\n",
    "import glob, os\n",
    "\n"
   ]
  },
  {
   "cell_type": "code",
   "execution_count": 3,
   "metadata": {},
   "outputs": [
    {
     "name": "stderr",
     "output_type": "stream",
     "text": [
      "INFO:pyvips.voperation:dzsave argument dirname is deprecated\n",
      "INFO:pyvips.voperation:dzsave argument dirname is deprecated\n",
      "INFO:pyvips.voperation:dzsave argument dirname is deprecated\n",
      "INFO:pyvips.voperation:dzsave argument dirname is deprecated\n"
     ]
    }
   ],
   "source": [
    "# Put all the images you want to convert to dzi in one folder\n",
    "imageDir = \"/path/to/my/tif/images/\"\n",
    "\n",
    "# Browse through the tif images and convert to dzi\n",
    "for tiffImage in glob.glob(os.path.join(imageDir, \"*.tif\")):\n",
    "    # Remove the tif extension to get the output filename:\n",
    "    dziPath, _ = os.path.splitext(tiffImage)\n",
    "    converter = tfv.ImageConverter(tiffImage, dziPath)\n",
    "    converter.convertToDZI()"
   ]
  },
  {
   "cell_type": "markdown",
   "metadata": {},
   "source": [
    "## 2. Using pyvips directly:\n",
    "\n",
    "Install and import all dependencies:"
   ]
  },
  {
   "cell_type": "code",
   "execution_count": 2,
   "metadata": {},
   "outputs": [],
   "source": [
    "%pip install pyvips\n",
    "\n",
    "import os, glob, pyvips"
   ]
  },
  {
   "cell_type": "markdown",
   "metadata": {},
   "source": [
    "Create the converter function:"
   ]
  },
  {
   "cell_type": "code",
   "execution_count": 10,
   "metadata": {},
   "outputs": [],
   "source": [
    "def convertToDZI(inputImage, outputImage, jpegQuality=100):\n",
    "    # create pyvips image from input:\n",
    "    imgVips = pyvips.Image.new_from_file(inputImage)\n",
    "    \n",
    "    # rescale to 0-255 to fit in 8bit:\n",
    "    minVal = imgVips.percent(0.5)\n",
    "    maxVal = imgVips.percent(99.5)\n",
    "    if minVal == maxVal:\n",
    "        minVal = 0\n",
    "        maxVal = 255\n",
    "    if minVal < 0 or maxVal > 255:\n",
    "        imgVips = (255.0 * (imgVips - minVal)) / (maxVal - minVal)\n",
    "        imgVips = (imgVips < 0).ifthenelse(0, imgVips)\n",
    "        imgVips = (imgVips > 255).ifthenelse(255, imgVips)\n",
    "        imgVips = imgVips.scaleimage()\n",
    "    \n",
    "    # Convert to dzi:\n",
    "    imgVips.dzsave(\n",
    "        outputImage,\n",
    "        suffix=\".jpg[Q={q}]\".format(\n",
    "            q=jpegQuality\n",
    "        ),\n",
    "        background=0,\n",
    "        depth=\"onepixel\",\n",
    "        overlap=0,\n",
    "        tile_size=256,\n",
    "    )"
   ]
  },
  {
   "cell_type": "code",
   "execution_count": 11,
   "metadata": {},
   "outputs": [],
   "source": [
    "# Put all the images you want to convert to dzi in one folder\n",
    "imageDir = \"/path/to/my/tif/images/\"\n",
    "\n",
    "# Browse through the tif images and convert to dzi\n",
    "for tiffImage in glob.glob(os.path.join(imageDir, \"*.tif\")):\n",
    "    # Remove the tif extension to get the output filename:\n",
    "    dziPath, _ = os.path.splitext(tiffImage)\n",
    "    converter = convertToDZI(tiffImage, dziPath, jpegQuality=100)"
   ]
  },
  {
   "cell_type": "code",
   "execution_count": null,
   "metadata": {},
   "outputs": [],
   "source": []
  }
 ],
 "metadata": {
  "kernelspec": {
   "display_name": "Python 3.8.13 ('tissuumaps')",
   "language": "python",
   "name": "python3"
  },
  "language_info": {
   "codemirror_mode": {
    "name": "ipython",
    "version": 3
   },
   "file_extension": ".py",
   "mimetype": "text/x-python",
   "name": "python",
   "nbconvert_exporter": "python",
   "pygments_lexer": "ipython3",
   "version": "3.8.13"
  },
  "orig_nbformat": 4,
  "vscode": {
   "interpreter": {
    "hash": "84c1bf86e347ace437ea83f5b18906c50dcec965e9565a7423664e7b021dbf79"
   }
  }
 },
 "nbformat": 4,
 "nbformat_minor": 2
}
